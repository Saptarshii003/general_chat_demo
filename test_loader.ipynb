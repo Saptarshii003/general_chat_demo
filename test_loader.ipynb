{
 "cells": [
  {
   "cell_type": "code",
   "execution_count": null,
   "id": "2ac5fc15",
   "metadata": {},
   "outputs": [],
   "source": [
    "# Python - 3.13.7\n",
    "# Dependencies - langchain-community, langchain-text-splitters, langchain-milvus, langchain-huggingface, langchain-qdrant, chromadb, faiss-cpu, pypdf, langchain, sentence-transformers"
   ]
  },
  {
   "cell_type": "code",
   "execution_count": null,
   "id": "002975ea",
   "metadata": {},
   "outputs": [],
   "source": [
    "from langchain_community.document_loaders import PyPDFLoader, DirectoryLoader\n",
    "from langchain_text_splitters import RecursiveCharacterTextSplitter\n",
    "from langchain_milvus import Milvus\n",
    "from langchain_huggingface import HuggingFaceEmbeddings\n",
    "from langchain_qdrant import QdrantVectorStore\n",
    "from qdrant_client import QdrantClient\n",
    "from qdrant_client.http.models import Distance, VectorParams\n",
    "from langchain_community.vectorstores import FAISS\n",
    "from langchain_community.vectorstores import Chroma"
   ]
  },
  {
   "cell_type": "code",
   "execution_count": 2,
   "id": "4382d346",
   "metadata": {},
   "outputs": [],
   "source": [
    "folder_path = \"./Netsuite_pdfs/\""
   ]
  },
  {
   "cell_type": "code",
   "execution_count": null,
   "id": "decaf723",
   "metadata": {},
   "outputs": [],
   "source": [
    "# Parsing pdfs, not needed if parsed_docs.json present\n",
    "\n",
    "# loader = DirectoryLoader(\n",
    "#     path=folder_path,\n",
    "#     glob='*.pdf',\n",
    "#     loader_cls=PyPDFLoader\n",
    "# )\n",
    "\n",
    "# docs = loader.lazy_load()\n",
    "\n",
    "# pages = []\n",
    "# async for page in loader.alazy_load():\n",
    "#     pages.append(page)"
   ]
  },
  {
   "cell_type": "code",
   "execution_count": null,
   "id": "455bed00",
   "metadata": {},
   "outputs": [],
   "source": [
    "# Functions for saving and loading parsed documents\n",
    "\n",
    "import json\n",
    "\n",
    "\n",
    "def save_documents(docs, filename=\"docs.json\"):\n",
    "    data = [{\"page_content\": d.page_content, \"metadata\": d.metadata}\n",
    "            for d in docs]\n",
    "    with open(filename, \"w\", encoding=\"utf-8\") as f:\n",
    "        json.dump(data, f, ensure_ascii=False, indent=2)\n",
    "\n",
    "\n",
    "def load_documents(filename=\"docs.json\"):\n",
    "    from langchain.schema import Document\n",
    "    import json\n",
    "    with open(filename, \"r\", encoding=\"utf-8\") as f:\n",
    "        data = json.load(f)\n",
    "    return [Document(page_content=d[\"page_content\"], metadata=d[\"metadata\"]) for d in data]"
   ]
  },
  {
   "cell_type": "code",
   "execution_count": null,
   "id": "2dc15c24",
   "metadata": {},
   "outputs": [],
   "source": [
    "# not needed if parsed_docs.json present\n",
    "\n",
    "# save_documents(pages, \"parsed_docs.json\")"
   ]
  },
  {
   "cell_type": "code",
   "execution_count": 4,
   "id": "60be926a",
   "metadata": {},
   "outputs": [],
   "source": [
    "pages = load_documents(\"parsed_docs.json\")"
   ]
  },
  {
   "cell_type": "code",
   "execution_count": 8,
   "id": "582d9cdd",
   "metadata": {},
   "outputs": [
    {
     "data": {
      "text/plain": [
       "32388"
      ]
     },
     "execution_count": 8,
     "metadata": {},
     "output_type": "execute_result"
    }
   ],
   "source": [
    "len(pages)"
   ]
  },
  {
   "cell_type": "code",
   "execution_count": null,
   "id": "5ce6eb35",
   "metadata": {},
   "outputs": [],
   "source": [
    "# Chunk size set due to sentence-transformers/all-mpnet-base-v2 constraints\n",
    "\n",
    "text_splitter = RecursiveCharacterTextSplitter(\n",
    "    chunk_size=1400, chunk_overlap=150)\n",
    "texts = text_splitter.split_documents(pages)"
   ]
  },
  {
   "cell_type": "code",
   "execution_count": 6,
   "id": "9f67e371",
   "metadata": {},
   "outputs": [
    {
     "data": {
      "text/plain": [
       "71702"
      ]
     },
     "execution_count": 6,
     "metadata": {},
     "output_type": "execute_result"
    }
   ],
   "source": [
    "len(texts)"
   ]
  },
  {
   "cell_type": "code",
   "execution_count": 2,
   "id": "c3883d4d",
   "metadata": {},
   "outputs": [
    {
     "name": "stderr",
     "output_type": "stream",
     "text": [
      "c:\\Users\\IDEAPAD\\AppData\\Local\\Programs\\Python\\Python313\\Lib\\site-packages\\tqdm\\auto.py:21: TqdmWarning: IProgress not found. Please update jupyter and ipywidgets. See https://ipywidgets.readthedocs.io/en/stable/user_install.html\n",
      "  from .autonotebook import tqdm as notebook_tqdm\n"
     ]
    }
   ],
   "source": [
    "embeddings = HuggingFaceEmbeddings(\n",
    "    model_name=\"sentence-transformers/all-mpnet-base-v2\")"
   ]
  },
  {
   "cell_type": "markdown",
   "id": "1e8dcfea",
   "metadata": {},
   "source": [
    "## Milvus DB"
   ]
  },
  {
   "cell_type": "code",
   "execution_count": null,
   "id": "84d0cdbe",
   "metadata": {},
   "outputs": [],
   "source": [
    "URI = \"./milvus_example.db\"\n",
    "\n",
    "milvus_vector_store = Milvus(\n",
    "    embedding_function=embeddings,\n",
    "    connection_args={\"uri\": URI},\n",
    "    index_params={\"index_type\": \"FLAT\", \"metric_type\": \"L2\"},\n",
    ")"
   ]
  },
  {
   "cell_type": "code",
   "execution_count": null,
   "id": "3b99ca56",
   "metadata": {},
   "outputs": [],
   "source": [
    "milvus_vector_store.add_documents(texts)"
   ]
  },
  {
   "cell_type": "code",
   "execution_count": null,
   "id": "64e88cc0",
   "metadata": {},
   "outputs": [],
   "source": [
    "milvus_retriever = milvus_vector_store.as_retriever(\n",
    "    search_type=\"mmr\", search_kwargs={\"k\": 10, \"lambda_mult\": 0.8})"
   ]
  },
  {
   "cell_type": "code",
   "execution_count": null,
   "id": "b0cde227",
   "metadata": {},
   "outputs": [],
   "source": [
    "milvus_retriever.invoke(\n",
    "    \"What are the standard and specialized NetSuite centers?\")"
   ]
  },
  {
   "cell_type": "markdown",
   "id": "1c4487bc",
   "metadata": {},
   "source": [
    "## Qdrant"
   ]
  },
  {
   "cell_type": "code",
   "execution_count": null,
   "id": "8918e0a0",
   "metadata": {},
   "outputs": [
    {
     "data": {
      "text/plain": [
       "True"
      ]
     },
     "execution_count": 10,
     "metadata": {},
     "output_type": "execute_result"
    }
   ],
   "source": [
    "# No need to run if db is already present\n",
    "\n",
    "client = QdrantClient(path=\"./tmp/langchain_qdrant\")\n",
    "\n",
    "client.create_collection(\n",
    "    collection_name=\"demo_collection\",\n",
    "    vectors_config=VectorParams(size=768, distance=Distance.COSINE),\n",
    ")\n",
    "\n",
    "qdrant_vector_store = QdrantVectorStore(\n",
    "    client=client,\n",
    "    collection_name=\"demo_collection\",\n",
    "    embedding=embeddings,\n",
    ")\n",
    "\n",
    "qdrant_vector_store.add_documents(texts)"
   ]
  },
  {
   "cell_type": "code",
   "execution_count": null,
   "id": "077c1cc0",
   "metadata": {},
   "outputs": [],
   "source": [
    "# Loading saved database\n",
    "\n",
    "# client = QdrantClient(path=\"./tmp/langchain_qdrant\")\n",
    "\n",
    "\n",
    "# qdrant_vector_store = QdrantVectorStore(\n",
    "#     client=client,\n",
    "#     collection_name=\"demo_collection\",\n",
    "#     embedding=embeddings,\n",
    "# )"
   ]
  },
  {
   "cell_type": "code",
   "execution_count": null,
   "id": "12bd6e37",
   "metadata": {},
   "outputs": [],
   "source": [
    "qdrant_retriever = qdrant_vector_store.as_retriever(\n",
    "    search_type=\"mmr\", search_kwargs={\"k\": 10, \"lambda_mult\": 0.8})\n"
   ]
  },
  {
   "cell_type": "code",
   "execution_count": null,
   "id": "7cb916ef",
   "metadata": {},
   "outputs": [],
   "source": [
    "qdrant_retriever.invoke(\n",
    "    \"How do I set up commission calculations for sales reps?\")"
   ]
  },
  {
   "cell_type": "markdown",
   "id": "35d48dd4",
   "metadata": {},
   "source": [
    "## Faiss"
   ]
  },
  {
   "cell_type": "code",
   "execution_count": null,
   "id": "c67598af",
   "metadata": {},
   "outputs": [],
   "source": [
    "faiss_vector_store = FAISS.from_documents(texts, embeddings)"
   ]
  },
  {
   "cell_type": "code",
   "execution_count": null,
   "metadata": {},
   "outputs": [],
   "source": [
    "faiss_vector_store.save_local(\"faiss_index\")"
   ]
  },
  {
   "cell_type": "code",
   "execution_count": null,
   "id": "31776d47",
   "metadata": {},
   "outputs": [],
   "source": [
    "faiss_retriever = faiss_vector_store.as_retriever(\n",
    "    search_type=\"mmr\", search_kwargs={\"k\": 10, \"lambda_mult\": 0.8})"
   ]
  },
  {
   "cell_type": "code",
   "execution_count": null,
   "id": "3148a9cd",
   "metadata": {},
   "outputs": [],
   "source": [
    "faiss_retriever.invoke(\n",
    "    \"How do I set up commission calculations for sales reps?\")"
   ]
  },
  {
   "cell_type": "markdown",
   "id": "d78ee631",
   "metadata": {},
   "source": [
    "## Chroma"
   ]
  },
  {
   "cell_type": "code",
   "execution_count": null,
   "id": "5032584a",
   "metadata": {},
   "outputs": [],
   "source": [
    "chroma_vector_store = Chroma.from_documents(\n",
    "    documents=texts,\n",
    "    embedding=embeddings,\n",
    "    persist_directory=\"./chroma_db\"\n",
    ")"
   ]
  },
  {
   "cell_type": "code",
   "execution_count": null,
   "id": "85e5a004",
   "metadata": {},
   "outputs": [],
   "source": [
    "chroma_retriever = chroma_vector_store.as_retriever(\n",
    "    search_type=\"mmr\", search_kwargs={\"k\": 10, \"lambda_mult\": 0.8})"
   ]
  },
  {
   "cell_type": "code",
   "execution_count": null,
   "id": "2c214fe1",
   "metadata": {},
   "outputs": [],
   "source": [
    "chroma_retriever.invoke(\n",
    "    \"How do I set up commission calculations for sales reps?\")"
   ]
  }
 ],
 "metadata": {
  "kernelspec": {
   "display_name": "Python 3",
   "language": "python",
   "name": "python3"
  },
  "language_info": {
   "codemirror_mode": {
    "name": "ipython",
    "version": 3
   },
   "file_extension": ".py",
   "mimetype": "text/x-python",
   "name": "python",
   "nbconvert_exporter": "python",
   "pygments_lexer": "ipython3",
   "version": "3.13.7"
  }
 },
 "nbformat": 4,
 "nbformat_minor": 5
}
